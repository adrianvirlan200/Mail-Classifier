{
 "cells": [
  {
   "cell_type": "code",
   "execution_count": 57,
   "id": "2162efc9",
   "metadata": {},
   "outputs": [],
   "source": [
    "import  numpy as np\n",
    "import os\n",
    "import string\n",
    "import sys\n",
    "from matplotlib import pyplot as plt  \n",
    "import os, os.path\n",
    "\n",
    "def LQ(A): #triangularizarea la dreapta cu reflectori hermitici \n",
    "    m,n  = np.shape(A)\n",
    "    s = min(m,n)\n",
    "    \n",
    "    beta = np.zeros(s)\n",
    "\n",
    "    for k in range(s):\n",
    "        beta[k] = 0\n",
    "        if k<n:\n",
    "            sigma = np.linalg.norm(A[k,k:n])\n",
    "            if sigma!=0:\n",
    "                if A[k,k] !=0:\n",
    "                    sigma = sigma * A[k,k]/np.absolute(A[k,k])\n",
    "                for j in range(k,n):\n",
    "                    A[k,j] = A[k,j]/sigma\n",
    "                beta[k] = 1 + A[k,k]\n",
    "                for i in range(k+1,m):\n",
    "                    sum = 0\n",
    "                    for j in range(k,n):\n",
    "                        sum += A[i,j] * A[k,j]\n",
    "                    alfa = -1*sum/beta[k]\n",
    "                    for j in range(k,n):\n",
    "                        A[i,j] += alfa*A[k,j]\n",
    "                A[k,k] = -sigma\n",
    "    return A, beta\n",
    "    \n",
    "def SQL(A, b, beta): #rezolvarea sistemelor subdeterminate\n",
    "    m,n  = np.shape(A)\n",
    "    x = np.zeros(n)\n",
    "    \n",
    "    for k in range(m):\n",
    "        sum = 0\n",
    "        for j in range(k-1):\n",
    "            sum += A[k,j]*x[j]\n",
    "        x[k] = (b[k] - sum)/A[k,k]\n",
    "    \n",
    "    #calculul solutiei normale\n",
    "    x[m+1:n] = 0\n",
    "    for k in range(m-1,-1,-1):\n",
    "        t = A[k,k]\n",
    "        A[k,k] = beta[k]\n",
    "        sum = 0\n",
    "        for j in range(k,n):\n",
    "            sum+=A[k,j]*x[j]\n",
    "        alfa = -sum/beta[k]\n",
    "        for j in range(k,n):\n",
    "            x[j]+=alfa*A[k,j]\n",
    "        A[k,k] = t\n",
    "    return x\n",
    "        "
   ]
  },
  {
   "cell_type": "code",
   "execution_count": 58,
   "id": "a5bb6986",
   "metadata": {},
   "outputs": [],
   "source": [
    "#citeste cuvintele din dictionar in vectorul \"dictionar\"\n",
    "dictionar = np.loadtxt(\"dictionar\\dictionar2.txt\", dtype=str)\n",
    "#d = dimensiune vector dictionar\n",
    "d = dictionar.size\n",
    "\n",
    "#salveaza numarul de fisiere din fiecare folder in parte\n",
    "path = 'date_antrenare\\mail_bun'\n",
    "nr_mail_antrenare_bun = len([f for f in os.listdir(path)if os.path.isfile(os.path.join(path, f))])\n",
    "path = 'date_antrenare\\mail_spam'\n",
    "nr_mail_antrenare_spam = len([f for f in os.listdir(path)if os.path.isfile(os.path.join(path, f))])\n",
    "\n",
    "nr_total_mailuri_antrenare = nr_mail_antrenare_bun + nr_mail_antrenare_spam\n",
    "\n",
    "#initializeaza matrice features(dim 10 X d+1)\n",
    "features = np.zeros((nr_total_mailuri_antrenare, d + 1))   #ultima coloana = 1\n",
    "\n",
    "#initializeaza vectorul labels de dim n*1(n mailuri, fiecare mail este bun(1) sau spam(-1))\n",
    "labels = np.zeros(nr_total_mailuri_antrenare)\n",
    "\n",
    "#pentru mail-urile bune\n",
    "for i in range(nr_mail_antrenare_bun):\n",
    "    features[i, d] = 1 #ultima coloana este 1\n",
    "    labels[i] = 1      #mail bun (1)               \n",
    "\n",
    "    with open(\"date_antrenare\\mail_bun\\\\\" + str(i) + '.txt','r') as file:   #deschide fisierul \"nr_mail.txt\"\n",
    "        # citeste fiecare linie    \n",
    "        for line in file:\n",
    "            # citeste fiecare cuvant din mail        \n",
    "            for word in line.split():\n",
    "                #cauta daca cuvantul se gaseste in dictionar\n",
    "                 for j in range(d):               \n",
    "                        if(word.lower() == dictionar[j]): #daca cuvantul este gasit\n",
    "                            features[i, j] += 1 #incrementeaza cu 1 nr de aparitii\n",
    "                            break #iesi din for\n",
    "\n",
    "#pentru mail-urille spam\n",
    "#se pleaca cu indexul de la nr_mail_antrenare_bun\n",
    "for i in range(nr_mail_antrenare_bun, nr_total_mailuri_antrenare):\n",
    "    features[i, d] = 1 #ultima linie este 1\n",
    "    labels[i] = -1      #mail spam (-1)       \n",
    "    with open(\"date_antrenare\\mail_spam\\\\\" + str(i - nr_mail_antrenare_bun) + '.txt','r') as file:   #deschide fisierul \"nr_mail.txt\"\n",
    "        # citeste fiecare linie    \n",
    "        for line in file:\n",
    "            # citeste fiecare cuvant din mail        \n",
    "            for word in line.split():\n",
    "                 #cauta daca cuvantul se gaseste in dictionar\n",
    "                 for j in range(d):                 \n",
    "                        if(word.lower() == dictionar[j]):#daca cuvantul este gasit\n",
    "                            features[i, j] += 1 #incrementeaza nr de aparitii\n",
    "                            break #iesi din for\n",
    "#features\n",
    "#labels\n",
    "\n"
   ]
  },
  {
   "cell_type": "code",
   "execution_count": 59,
   "id": "0ce4c612",
   "metadata": {},
   "outputs": [],
   "source": [
    "#date de testare:\n",
    "\n",
    "path = 'date_testare'\n",
    "nr_mail_testare = len([f for f in os.listdir(path)if os.path.isfile(os.path.join(path, f))])\n",
    "\n",
    "test_features = np.zeros([nr_mail_testare, d])\n",
    "\n",
    "for i in range(nr_mail_testare):\n",
    "    with open(\"date_testare\\\\\" + str(i) + '.txt','r') as file:   #deschide fisierul cu mailul de testare\n",
    "            # citeste fiecare linie    \n",
    "            for line in file:\n",
    "                # citeste fiecare cuvant din mail        \n",
    "                for word in line.split():\n",
    "                    #cauta daca cuvantul se gaseste in dictionar\n",
    "                     for j in range(d):                       \n",
    "                            if(word.lower() == dictionar[j]):\n",
    "                                test_features[i, j] += 1 #nr de aparitii\n",
    "                                break\n",
    "\n",
    "    "
   ]
  },
  {
   "cell_type": "code",
   "execution_count": 60,
   "id": "c1e05656",
   "metadata": {},
   "outputs": [
    {
     "data": {
      "image/png": "[encoded data removed]",
      "text/plain": [
       "<Figure size 432x288 with 1 Axes>"
      ]
     },
     "metadata": {
      "needs_background": "light"
     },
     "output_type": "display_data"
    },
    {
     "name": "stdout",
     "output_type": "stream",
     "text": [
      "mail_antrenament1:  1.0000000000000002\n",
      "mail_antrenament2:  0.9999999999999987\n",
      "mail_antrenament3:  1.0000000000000007\n",
      "mail_antrenament4:  1.0000000000000009\n",
      "mail_antrenament5:  1.0000000000000013\n",
      "mail_antrenament6:  -0.9999999999999944\n",
      "mail_antrenament7:  -0.9999999999999949\n",
      "mail_antrenament8:  -1.0\n",
      "mail_antrenament9:  -0.9999999999999991\n",
      "mail_antrenament10:  -1.0000000000000078\n"
     ]
    },
    {
     "data": {
      "image/png": "[encoded data removed]",
      "text/plain": [
       "<Figure size 432x288 with 1 Axes>"
      ]
     },
     "metadata": {
      "needs_background": "light"
     },
     "output_type": "display_data"
    },
    {
     "name": "stdout",
     "output_type": "stream",
     "text": [
      "----test_mails----\n",
      "Mail de test 1  - 0.6885976144338388 clasificat ca fiind bun\n",
      "Mail de test 2  - 0.9102005250464336 clasificat ca fiind bun\n",
      "Mail de test 3  - -1.628522013000586 clasificat ca fiind spam\n",
      "Mail de test 4  - -0.3618066647051697 clasificat ca fiind spam\n"
     ]
    },
    {
     "data": {
      "image/png": "[encoded data removed]",
      "text/plain": [
       "<Figure size 432x288 with 1 Axes>"
      ]
     },
     "metadata": {
      "needs_background": "light"
     },
     "output_type": "display_data"
    }
   ],
   "source": [
    "#Se contruieste clasificatorul\n",
    "# sistemul este supradeterminat => cautam solutia CMMP\n",
    "A = np.copy(features)\n",
    "\n",
    "#prima data rezolva sistemul cu functia lianlg.lstsq\n",
    "x1 = np.linalg.lstsq(features, labels, rcond=None)[0]\n",
    "\n",
    "#clasificatorul obtinut este de forma: f(v) = c' * v + p\n",
    "#la noi c = x[:d]si p = x[d]                         \n",
    "                                                 \n",
    "x2 = np.transpose(features) @ np.linalg.inv(features @ np.transpose(features)) @ labels\n",
    "\n",
    "L, beta = LQ(features)\n",
    "x2 = SQL(L, labels, beta)\n",
    "    \n",
    "# grafic cu diferentele dintre apelarea lstsq si apelarea LQ + SQL\n",
    "plt.plot(x1 - x2)\n",
    "plt.legend([\"Solutie lstsq(x1) - Solutie apelare LQ si SQL(x2)\"])\n",
    "plt.show()\n",
    "\n",
    "#x1 = np.copy(x2)\n",
    "\n",
    "\n",
    "# clasificare mailuri antrenare\n",
    "for i in range(nr_total_mailuri_antrenare):\n",
    "    label_mail = A[i,:d] @ x1[:d] + x1[d] #aplica clasificatorul pe mailul i\n",
    "    plt.plot(label_mail,'*', label='mail antrenament '+ str(i+1), markersize=10)\n",
    "    print('mail_antrenament' + str(i+1) + str(\": \"), label_mail)\n",
    "\n",
    "plt.xlabel(\"label_obtinut\")\n",
    "plt.legend()\n",
    "\n",
    "plt.plot(x1,x1, label='separator de clase')\n",
    "\n",
    "#scrie legenda in afara graficului\n",
    "ax = plt.subplot(111)\n",
    "# Shrink current axis by 20%\n",
    "box = ax.get_position()\n",
    "ax.set_position([box.x0, box.y0, box.width * 0.8, box.height])\n",
    "# Put a legend to the right of the current axis\n",
    "ax.legend(loc='center left', bbox_to_anchor=(1, 0.5))\n",
    "plt.show()\n",
    "    \n",
    "    \n",
    "#clasificare mailuri noi\n",
    "print('----test_mails----')\n",
    "for i in range(nr_mail_testare):\n",
    "    label_mail = test_features[i,:] @ x1[:d] + x1[d] #aplica  clasificatorul\n",
    "    if label_mail >= 0:\n",
    "        string = 'bun'\n",
    "    else:\n",
    "        string = 'spam'\n",
    "    plt.plot(label_mail, 'x' ,label='mail_test_'+ string)\n",
    "    print('Mail de test ' + str(i + 1), \" -\", label_mail,'clasificat ca fiind '+ string)\n",
    "    \n",
    "plt.plot(x1,x1, label='separator de clase')\n",
    "\n",
    "plt.legend()\n",
    "plt.xlabel(\"label obtinut\")\n",
    "#scrie legenda in afara graficului\n",
    "ax = plt.subplot(111)\n",
    "# Shrink current axis by 20%\n",
    "box = ax.get_position()\n",
    "ax.set_position([box.x0, box.y0, box.width * 0.8, box.height])\n",
    "# Put a legend to the right of the current axis\n",
    "ax.legend(loc='center left', bbox_to_anchor=(1, 0.5))\n",
    "plt.show()\n",
    "\n",
    " "
   ]
  },
  {
   "cell_type": "code",
   "execution_count": null,
   "id": "9cff103e",
   "metadata": {},
   "outputs": [],
   "source": []
  },
  {
   "cell_type": "code",
   "execution_count": null,
   "id": "31c81c8d",
   "metadata": {},
   "outputs": [],
   "source": []
  }
 ],
 "metadata": {
  "kernelspec": {
   "display_name": "Python 3.9.10 ('base')",
   "language": "python",
   "name": "python3"
  },
  "language_info": {
   "codemirror_mode": {
    "name": "ipython",
    "version": 3
   },
   "file_extension": ".py",
   "mimetype": "text/x-python",
   "name": "python",
   "nbconvert_exporter": "python",
   "pygments_lexer": "ipython3",
   "version": "3.9.10"
  },
  "vscode": {
   "interpreter": {
    "hash": "867619720420eaa0ea2f2397ef685d2a14f7b5aaadb44ffdcdfd992bdeebc1f9"
   }
  }
 },
 "nbformat": 4,
 "nbformat_minor": 5
}
